{
 "cells": [
  {
   "cell_type": "markdown",
   "id": "65f42a76",
   "metadata": {},
   "source": [
    "Case: Campaign Testing\n",
    "\n",
    "A company wants to run a new campaign to increase the transactions’ amount of its product. Before running the actual campaign to the whole customers, the company wants to know the campaign’s effectiveness in their 30 days transactions’ amount.\n",
    "The average of transactions’ amount before the campaign is `$100`.\n",
    "The company ran a testing on 20 customers and gathered their ransactions’ amount in the next 30 days after the campaign. The data is stored in this table below.z\n",
    "Run a t-test analysis on the transactions’ amount average (with alpha = 5%). "
   ]
  },
  {
   "cell_type": "code",
   "execution_count": 1,
   "id": "fcb2ba85",
   "metadata": {},
   "outputs": [],
   "source": [
    "# Import library\n",
    "import scipy.stats as stats\n",
    "import numpy as np\n",
    "import pandas as pd"
   ]
  },
  {
   "cell_type": "code",
   "execution_count": 3,
   "id": "3eb42926",
   "metadata": {},
   "outputs": [
    {
     "data": {
      "text/html": [
       "<div>\n",
       "<style scoped>\n",
       "    .dataframe tbody tr th:only-of-type {\n",
       "        vertical-align: middle;\n",
       "    }\n",
       "\n",
       "    .dataframe tbody tr th {\n",
       "        vertical-align: top;\n",
       "    }\n",
       "\n",
       "    .dataframe thead th {\n",
       "        text-align: right;\n",
       "    }\n",
       "</style>\n",
       "<table border=\"1\" class=\"dataframe\">\n",
       "  <thead>\n",
       "    <tr style=\"text-align: right;\">\n",
       "      <th></th>\n",
       "      <th>transaction_amount</th>\n",
       "      <th>income</th>\n",
       "    </tr>\n",
       "  </thead>\n",
       "  <tbody>\n",
       "    <tr>\n",
       "      <th>0</th>\n",
       "      <td>100</td>\n",
       "      <td>150</td>\n",
       "    </tr>\n",
       "    <tr>\n",
       "      <th>1</th>\n",
       "      <td>150</td>\n",
       "      <td>120</td>\n",
       "    </tr>\n",
       "    <tr>\n",
       "      <th>2</th>\n",
       "      <td>50</td>\n",
       "      <td>50</td>\n",
       "    </tr>\n",
       "    <tr>\n",
       "      <th>3</th>\n",
       "      <td>100</td>\n",
       "      <td>100</td>\n",
       "    </tr>\n",
       "    <tr>\n",
       "      <th>4</th>\n",
       "      <td>130</td>\n",
       "      <td>100</td>\n",
       "    </tr>\n",
       "    <tr>\n",
       "      <th>5</th>\n",
       "      <td>120</td>\n",
       "      <td>140</td>\n",
       "    </tr>\n",
       "    <tr>\n",
       "      <th>6</th>\n",
       "      <td>100</td>\n",
       "      <td>90</td>\n",
       "    </tr>\n",
       "    <tr>\n",
       "      <th>7</th>\n",
       "      <td>110</td>\n",
       "      <td>150</td>\n",
       "    </tr>\n",
       "    <tr>\n",
       "      <th>8</th>\n",
       "      <td>75</td>\n",
       "      <td>50</td>\n",
       "    </tr>\n",
       "    <tr>\n",
       "      <th>9</th>\n",
       "      <td>65</td>\n",
       "      <td>90</td>\n",
       "    </tr>\n",
       "  </tbody>\n",
       "</table>\n",
       "</div>"
      ],
      "text/plain": [
       "   transaction_amount  income\n",
       "0                 100     150\n",
       "1                 150     120\n",
       "2                  50      50\n",
       "3                 100     100\n",
       "4                 130     100\n",
       "5                 120     140\n",
       "6                 100      90\n",
       "7                 110     150\n",
       "8                  75      50\n",
       "9                  65      90"
      ]
     },
     "execution_count": 3,
     "metadata": {},
     "output_type": "execute_result"
    }
   ],
   "source": [
    "# Dataframe Transaction\n",
    "df = pd.DataFrame({\n",
    "    \"transaction_amount\": [100,150,50,100,130,120,100,110,75,65],\n",
    "    \"income\": [150,120,50,100,100,140,90,150,50,90]\n",
    "})\n",
    "df"
   ]
  },
  {
   "cell_type": "code",
   "execution_count": 8,
   "id": "bbfff071",
   "metadata": {},
   "outputs": [
    {
     "data": {
      "text/plain": [
       "array([150, 120,  50, 100, 100, 140,  90, 150,  50,  90])"
      ]
     },
     "execution_count": 8,
     "metadata": {},
     "output_type": "execute_result"
    }
   ],
   "source": [
    "# Mengambil data pada kolom income\n",
    "data = np.array(list(df['income']))\n",
    "data"
   ]
  },
  {
   "cell_type": "markdown",
   "id": "a23b2f55",
   "metadata": {},
   "source": [
    "### Pendefinisian Hipotesis (H0 dan H1):\n",
    "- H0: Rata-rata penjualan setelah Training = `$100`\n",
    "- H1: Rata-rata penjualan setelah Training > `$100`"
   ]
  },
  {
   "cell_type": "markdown",
   "id": "ece06cc4",
   "metadata": {},
   "source": [
    "### Melakukan T-Test"
   ]
  },
  {
   "cell_type": "code",
   "execution_count": 6,
   "id": "bfc4e38c",
   "metadata": {},
   "outputs": [
    {
     "data": {
      "text/plain": [
       "Ttest_1sampResult(statistic=0.345834250622541, pvalue=0.7374138103020644)"
      ]
     },
     "execution_count": 6,
     "metadata": {},
     "output_type": "execute_result"
    }
   ],
   "source": [
    "# perform one sample t-test\n",
    "stats.ttest_1samp(a=data, popmean=100)"
   ]
  },
  {
   "cell_type": "markdown",
   "id": "566b7c77",
   "metadata": {},
   "source": [
    "Hasil yang didapatkan \n",
    "- T-statistic = 0.345834250622541\n",
    "- P-value = 0.7374138103020644"
   ]
  },
  {
   "cell_type": "markdown",
   "id": "5381703f",
   "metadata": {},
   "source": [
    "Jika menggunakan alpha = 5% = 0.05, maka P-value > alpha, artinya kita gagal menolak H0"
   ]
  },
  {
   "cell_type": "code",
   "execution_count": 7,
   "id": "8750ac05",
   "metadata": {},
   "outputs": [
    {
     "data": {
      "text/plain": [
       "0.3687069051510322"
      ]
     },
     "execution_count": 7,
     "metadata": {},
     "output_type": "execute_result"
    }
   ],
   "source": [
    "# pvalue / 2 -> untuk dibandingkan dengan alpha dalam menentukan daerah critical region\n",
    "0.7374138103020644/2"
   ]
  },
  {
   "cell_type": "markdown",
   "id": "216871f3",
   "metadata": {},
   "source": [
    "- alpha = 0.05, dengan P-value/2 = 0.3687069051510322. \n",
    "- Karena P-value/2 > alpha, artinya kita gagal untuk menolak H0\n",
    "- Conclusion: The Mean is equal to 100\n",
    "\n",
    "If using T-statistic, we have to find the Critical Region first (One Tailed):"
   ]
  },
  {
   "cell_type": "code",
   "execution_count": 10,
   "id": "7fbda7bc",
   "metadata": {},
   "outputs": [
    {
     "data": {
      "text/plain": [
       "1.8331129326536333"
      ]
     },
     "execution_count": 10,
     "metadata": {},
     "output_type": "execute_result"
    }
   ],
   "source": [
    "# If H1: mean > 100 (right side)\n",
    "stats.t.ppf(1-0.05, 9)"
   ]
  },
  {
   "cell_type": "markdown",
   "id": "37683c5a",
   "metadata": {},
   "source": [
    "Hasil yang diperoleh:\n",
    "- Critical Region: t > 1.8331129326536333\n",
    "- T-statistic = 0.345834250622541\n",
    "- Karena T-statistic tidak lebih besar dari critical region atau tidak berada dalam critical region, maka kita gagal untuk menolak H0\n",
    "- Conclusion: The mean is equal to 100"
   ]
  },
  {
   "cell_type": "markdown",
   "id": "ac25a6e6",
   "metadata": {},
   "source": [
    "### Kesimpulan: Rata-rata penjualan setelah pelatihan = $100. Artinya training tidak berhasil atau campaign yang dilakukan gagal untuk meningkatkan transactions amount dari produknya."
   ]
  }
 ],
 "metadata": {
  "kernelspec": {
   "display_name": "Python 3 (ipykernel)",
   "language": "python",
   "name": "python3"
  },
  "language_info": {
   "codemirror_mode": {
    "name": "ipython",
    "version": 3
   },
   "file_extension": ".py",
   "mimetype": "text/x-python",
   "name": "python",
   "nbconvert_exporter": "python",
   "pygments_lexer": "ipython3",
   "version": "3.10.6"
  }
 },
 "nbformat": 4,
 "nbformat_minor": 5
}
