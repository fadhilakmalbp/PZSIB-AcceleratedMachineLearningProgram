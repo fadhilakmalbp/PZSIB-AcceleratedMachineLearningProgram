{
 "cells": [
  {
   "cell_type": "markdown",
   "id": "1854e224",
   "metadata": {},
   "source": [
    "## Unsupervised ML Python Homework"
   ]
  },
  {
   "cell_type": "code",
   "execution_count": 1,
   "id": "19e2e47b",
   "metadata": {},
   "outputs": [],
   "source": [
    "import numpy as np\n",
    "import pandas as pd\n",
    "import sklearn\n",
    "import sys\n",
    "import warnings\n",
    "import os\n",
    "if not sys.warnoptions:\n",
    "    warnings.simplefilter(\"ignore\")\n",
    "    os.environ[\"PYTHONWARNINGS\"] = \"ignore\" \n",
    "\n",
    "import matplotlib.pyplot as plt\n",
    "import seaborn as sns\n",
    "import time\n",
    "\n",
    "\n",
    "from sklearn.decomposition import PCA\n",
    "\n",
    "import numpy as np\n",
    "import pandas as pd\n",
    "\n",
    "from sklearn.cluster import KMeans\n",
    "from sklearn.metrics import silhouette_samples, silhouette_score\n",
    "\n",
    "import matplotlib.pyplot as plt\n",
    "import matplotlib.cm as cm\n",
    "import seaborn as sns"
   ]
  },
  {
   "cell_type": "code",
   "execution_count": 2,
   "id": "4ee45efc",
   "metadata": {},
   "outputs": [],
   "source": [
    "data = pd.read_csv('unsupervised_ml_homework_data.csv')"
   ]
  },
  {
   "cell_type": "code",
   "execution_count": 3,
   "id": "c73ca4e0",
   "metadata": {},
   "outputs": [
    {
     "data": {
      "text/html": [
       "<div>\n",
       "<style scoped>\n",
       "    .dataframe tbody tr th:only-of-type {\n",
       "        vertical-align: middle;\n",
       "    }\n",
       "\n",
       "    .dataframe tbody tr th {\n",
       "        vertical-align: top;\n",
       "    }\n",
       "\n",
       "    .dataframe thead th {\n",
       "        text-align: right;\n",
       "    }\n",
       "</style>\n",
       "<table border=\"1\" class=\"dataframe\">\n",
       "  <thead>\n",
       "    <tr style=\"text-align: right;\">\n",
       "      <th></th>\n",
       "      <th>0</th>\n",
       "      <th>1</th>\n",
       "      <th>2</th>\n",
       "      <th>3</th>\n",
       "      <th>4</th>\n",
       "      <th>5</th>\n",
       "      <th>6</th>\n",
       "      <th>7</th>\n",
       "      <th>8</th>\n",
       "      <th>9</th>\n",
       "      <th>10</th>\n",
       "      <th>11</th>\n",
       "      <th>12</th>\n",
       "      <th>13</th>\n",
       "      <th>14</th>\n",
       "      <th>15</th>\n",
       "      <th>16</th>\n",
       "      <th>17</th>\n",
       "      <th>18</th>\n",
       "      <th>19</th>\n",
       "    </tr>\n",
       "  </thead>\n",
       "  <tbody>\n",
       "    <tr>\n",
       "      <th>0</th>\n",
       "      <td>3.737848</td>\n",
       "      <td>-1.646325</td>\n",
       "      <td>-7.810163</td>\n",
       "      <td>11.995504</td>\n",
       "      <td>-2.807248</td>\n",
       "      <td>-0.085124</td>\n",
       "      <td>2.255992</td>\n",
       "      <td>1.746520</td>\n",
       "      <td>-9.256078</td>\n",
       "      <td>1.693435</td>\n",
       "      <td>-19.772970</td>\n",
       "      <td>9.750907</td>\n",
       "      <td>4.551802</td>\n",
       "      <td>-7.251561</td>\n",
       "      <td>5.099425</td>\n",
       "      <td>2.270202</td>\n",
       "      <td>-8.097061</td>\n",
       "      <td>-6.058829</td>\n",
       "      <td>-3.268958</td>\n",
       "      <td>2.623776</td>\n",
       "    </tr>\n",
       "    <tr>\n",
       "      <th>1</th>\n",
       "      <td>-6.024396</td>\n",
       "      <td>-0.488319</td>\n",
       "      <td>4.315504</td>\n",
       "      <td>0.650888</td>\n",
       "      <td>-14.594512</td>\n",
       "      <td>-2.801084</td>\n",
       "      <td>10.649474</td>\n",
       "      <td>6.087658</td>\n",
       "      <td>10.845574</td>\n",
       "      <td>5.494591</td>\n",
       "      <td>10.725055</td>\n",
       "      <td>2.933646</td>\n",
       "      <td>-12.785655</td>\n",
       "      <td>-9.768811</td>\n",
       "      <td>-14.827223</td>\n",
       "      <td>-6.423245</td>\n",
       "      <td>8.097094</td>\n",
       "      <td>1.899088</td>\n",
       "      <td>0.376761</td>\n",
       "      <td>-3.531153</td>\n",
       "    </tr>\n",
       "    <tr>\n",
       "      <th>2</th>\n",
       "      <td>0.490949</td>\n",
       "      <td>-10.487436</td>\n",
       "      <td>-9.045535</td>\n",
       "      <td>0.129481</td>\n",
       "      <td>3.977727</td>\n",
       "      <td>-7.615191</td>\n",
       "      <td>-12.787071</td>\n",
       "      <td>6.416582</td>\n",
       "      <td>11.013078</td>\n",
       "      <td>-5.251267</td>\n",
       "      <td>-5.692146</td>\n",
       "      <td>0.834205</td>\n",
       "      <td>3.299760</td>\n",
       "      <td>3.082884</td>\n",
       "      <td>-5.425403</td>\n",
       "      <td>6.274120</td>\n",
       "      <td>-11.407726</td>\n",
       "      <td>-5.886591</td>\n",
       "      <td>3.365510</td>\n",
       "      <td>23.723555</td>\n",
       "    </tr>\n",
       "    <tr>\n",
       "      <th>3</th>\n",
       "      <td>-13.087377</td>\n",
       "      <td>7.845202</td>\n",
       "      <td>21.154323</td>\n",
       "      <td>7.971816</td>\n",
       "      <td>-13.379182</td>\n",
       "      <td>1.204298</td>\n",
       "      <td>5.592174</td>\n",
       "      <td>-3.450956</td>\n",
       "      <td>6.537270</td>\n",
       "      <td>5.360073</td>\n",
       "      <td>5.689761</td>\n",
       "      <td>3.148839</td>\n",
       "      <td>3.416195</td>\n",
       "      <td>-16.175695</td>\n",
       "      <td>1.531479</td>\n",
       "      <td>5.373013</td>\n",
       "      <td>1.643889</td>\n",
       "      <td>1.227602</td>\n",
       "      <td>3.878080</td>\n",
       "      <td>12.262810</td>\n",
       "    </tr>\n",
       "    <tr>\n",
       "      <th>4</th>\n",
       "      <td>-7.171991</td>\n",
       "      <td>13.705993</td>\n",
       "      <td>11.057470</td>\n",
       "      <td>14.073451</td>\n",
       "      <td>-7.947617</td>\n",
       "      <td>-4.637308</td>\n",
       "      <td>6.351615</td>\n",
       "      <td>-6.814010</td>\n",
       "      <td>-2.483272</td>\n",
       "      <td>4.279979</td>\n",
       "      <td>9.275197</td>\n",
       "      <td>-18.018556</td>\n",
       "      <td>-3.428444</td>\n",
       "      <td>-5.252267</td>\n",
       "      <td>-6.693149</td>\n",
       "      <td>-4.172268</td>\n",
       "      <td>6.079671</td>\n",
       "      <td>7.918299</td>\n",
       "      <td>5.047994</td>\n",
       "      <td>4.019611</td>\n",
       "    </tr>\n",
       "    <tr>\n",
       "      <th>...</th>\n",
       "      <td>...</td>\n",
       "      <td>...</td>\n",
       "      <td>...</td>\n",
       "      <td>...</td>\n",
       "      <td>...</td>\n",
       "      <td>...</td>\n",
       "      <td>...</td>\n",
       "      <td>...</td>\n",
       "      <td>...</td>\n",
       "      <td>...</td>\n",
       "      <td>...</td>\n",
       "      <td>...</td>\n",
       "      <td>...</td>\n",
       "      <td>...</td>\n",
       "      <td>...</td>\n",
       "      <td>...</td>\n",
       "      <td>...</td>\n",
       "      <td>...</td>\n",
       "      <td>...</td>\n",
       "      <td>...</td>\n",
       "    </tr>\n",
       "    <tr>\n",
       "      <th>995</th>\n",
       "      <td>-3.471686</td>\n",
       "      <td>12.940466</td>\n",
       "      <td>8.508031</td>\n",
       "      <td>19.479180</td>\n",
       "      <td>-3.637595</td>\n",
       "      <td>3.513321</td>\n",
       "      <td>12.118536</td>\n",
       "      <td>0.347570</td>\n",
       "      <td>5.111509</td>\n",
       "      <td>-3.054912</td>\n",
       "      <td>5.697629</td>\n",
       "      <td>7.516148</td>\n",
       "      <td>-10.959986</td>\n",
       "      <td>-8.098598</td>\n",
       "      <td>-5.641822</td>\n",
       "      <td>2.220350</td>\n",
       "      <td>12.026172</td>\n",
       "      <td>5.860314</td>\n",
       "      <td>3.439185</td>\n",
       "      <td>-0.963639</td>\n",
       "    </tr>\n",
       "    <tr>\n",
       "      <th>996</th>\n",
       "      <td>-7.518274</td>\n",
       "      <td>6.128470</td>\n",
       "      <td>11.750514</td>\n",
       "      <td>3.632682</td>\n",
       "      <td>-17.542199</td>\n",
       "      <td>-1.025005</td>\n",
       "      <td>10.457185</td>\n",
       "      <td>-5.062221</td>\n",
       "      <td>6.447733</td>\n",
       "      <td>1.171539</td>\n",
       "      <td>-2.275978</td>\n",
       "      <td>8.270251</td>\n",
       "      <td>-15.710402</td>\n",
       "      <td>-12.621179</td>\n",
       "      <td>-15.950729</td>\n",
       "      <td>-9.878082</td>\n",
       "      <td>12.856359</td>\n",
       "      <td>0.787886</td>\n",
       "      <td>3.381137</td>\n",
       "      <td>0.173625</td>\n",
       "    </tr>\n",
       "    <tr>\n",
       "      <th>997</th>\n",
       "      <td>8.765803</td>\n",
       "      <td>-10.063699</td>\n",
       "      <td>-2.102178</td>\n",
       "      <td>8.809839</td>\n",
       "      <td>-3.357467</td>\n",
       "      <td>-5.563186</td>\n",
       "      <td>1.583849</td>\n",
       "      <td>-0.648160</td>\n",
       "      <td>7.130244</td>\n",
       "      <td>-5.364986</td>\n",
       "      <td>-12.926855</td>\n",
       "      <td>-2.191091</td>\n",
       "      <td>18.516239</td>\n",
       "      <td>3.508759</td>\n",
       "      <td>-3.534441</td>\n",
       "      <td>8.934743</td>\n",
       "      <td>-15.085670</td>\n",
       "      <td>5.897779</td>\n",
       "      <td>-3.473376</td>\n",
       "      <td>8.841673</td>\n",
       "    </tr>\n",
       "    <tr>\n",
       "      <th>998</th>\n",
       "      <td>-0.688375</td>\n",
       "      <td>-2.251089</td>\n",
       "      <td>-16.099880</td>\n",
       "      <td>-5.961233</td>\n",
       "      <td>-2.604041</td>\n",
       "      <td>-12.876690</td>\n",
       "      <td>-23.101496</td>\n",
       "      <td>-4.899372</td>\n",
       "      <td>13.612339</td>\n",
       "      <td>-15.022254</td>\n",
       "      <td>-8.881761</td>\n",
       "      <td>-13.294057</td>\n",
       "      <td>11.791521</td>\n",
       "      <td>5.684052</td>\n",
       "      <td>-12.296774</td>\n",
       "      <td>-10.716805</td>\n",
       "      <td>-4.355119</td>\n",
       "      <td>-9.737902</td>\n",
       "      <td>12.584078</td>\n",
       "      <td>14.301682</td>\n",
       "    </tr>\n",
       "    <tr>\n",
       "      <th>999</th>\n",
       "      <td>-13.771790</td>\n",
       "      <td>12.651611</td>\n",
       "      <td>-1.466062</td>\n",
       "      <td>11.393960</td>\n",
       "      <td>2.384552</td>\n",
       "      <td>6.142792</td>\n",
       "      <td>7.592562</td>\n",
       "      <td>2.344954</td>\n",
       "      <td>-7.759845</td>\n",
       "      <td>0.454261</td>\n",
       "      <td>-8.568974</td>\n",
       "      <td>12.048261</td>\n",
       "      <td>-0.450576</td>\n",
       "      <td>-5.445609</td>\n",
       "      <td>-3.165241</td>\n",
       "      <td>-4.608183</td>\n",
       "      <td>5.482402</td>\n",
       "      <td>-8.084182</td>\n",
       "      <td>9.353145</td>\n",
       "      <td>-1.872055</td>\n",
       "    </tr>\n",
       "  </tbody>\n",
       "</table>\n",
       "<p>1000 rows × 20 columns</p>\n",
       "</div>"
      ],
      "text/plain": [
       "             0          1          2          3          4          5  \\\n",
       "0     3.737848  -1.646325  -7.810163  11.995504  -2.807248  -0.085124   \n",
       "1    -6.024396  -0.488319   4.315504   0.650888 -14.594512  -2.801084   \n",
       "2     0.490949 -10.487436  -9.045535   0.129481   3.977727  -7.615191   \n",
       "3   -13.087377   7.845202  21.154323   7.971816 -13.379182   1.204298   \n",
       "4    -7.171991  13.705993  11.057470  14.073451  -7.947617  -4.637308   \n",
       "..         ...        ...        ...        ...        ...        ...   \n",
       "995  -3.471686  12.940466   8.508031  19.479180  -3.637595   3.513321   \n",
       "996  -7.518274   6.128470  11.750514   3.632682 -17.542199  -1.025005   \n",
       "997   8.765803 -10.063699  -2.102178   8.809839  -3.357467  -5.563186   \n",
       "998  -0.688375  -2.251089 -16.099880  -5.961233  -2.604041 -12.876690   \n",
       "999 -13.771790  12.651611  -1.466062  11.393960   2.384552   6.142792   \n",
       "\n",
       "             6         7          8          9         10         11  \\\n",
       "0     2.255992  1.746520  -9.256078   1.693435 -19.772970   9.750907   \n",
       "1    10.649474  6.087658  10.845574   5.494591  10.725055   2.933646   \n",
       "2   -12.787071  6.416582  11.013078  -5.251267  -5.692146   0.834205   \n",
       "3     5.592174 -3.450956   6.537270   5.360073   5.689761   3.148839   \n",
       "4     6.351615 -6.814010  -2.483272   4.279979   9.275197 -18.018556   \n",
       "..         ...       ...        ...        ...        ...        ...   \n",
       "995  12.118536  0.347570   5.111509  -3.054912   5.697629   7.516148   \n",
       "996  10.457185 -5.062221   6.447733   1.171539  -2.275978   8.270251   \n",
       "997   1.583849 -0.648160   7.130244  -5.364986 -12.926855  -2.191091   \n",
       "998 -23.101496 -4.899372  13.612339 -15.022254  -8.881761 -13.294057   \n",
       "999   7.592562  2.344954  -7.759845   0.454261  -8.568974  12.048261   \n",
       "\n",
       "            12         13         14         15         16        17  \\\n",
       "0     4.551802  -7.251561   5.099425   2.270202  -8.097061 -6.058829   \n",
       "1   -12.785655  -9.768811 -14.827223  -6.423245   8.097094  1.899088   \n",
       "2     3.299760   3.082884  -5.425403   6.274120 -11.407726 -5.886591   \n",
       "3     3.416195 -16.175695   1.531479   5.373013   1.643889  1.227602   \n",
       "4    -3.428444  -5.252267  -6.693149  -4.172268   6.079671  7.918299   \n",
       "..         ...        ...        ...        ...        ...       ...   \n",
       "995 -10.959986  -8.098598  -5.641822   2.220350  12.026172  5.860314   \n",
       "996 -15.710402 -12.621179 -15.950729  -9.878082  12.856359  0.787886   \n",
       "997  18.516239   3.508759  -3.534441   8.934743 -15.085670  5.897779   \n",
       "998  11.791521   5.684052 -12.296774 -10.716805  -4.355119 -9.737902   \n",
       "999  -0.450576  -5.445609  -3.165241  -4.608183   5.482402 -8.084182   \n",
       "\n",
       "            18         19  \n",
       "0    -3.268958   2.623776  \n",
       "1     0.376761  -3.531153  \n",
       "2     3.365510  23.723555  \n",
       "3     3.878080  12.262810  \n",
       "4     5.047994   4.019611  \n",
       "..         ...        ...  \n",
       "995   3.439185  -0.963639  \n",
       "996   3.381137   0.173625  \n",
       "997  -3.473376   8.841673  \n",
       "998  12.584078  14.301682  \n",
       "999   9.353145  -1.872055  \n",
       "\n",
       "[1000 rows x 20 columns]"
      ]
     },
     "execution_count": 3,
     "metadata": {},
     "output_type": "execute_result"
    }
   ],
   "source": [
    "data"
   ]
  },
  {
   "cell_type": "markdown",
   "id": "5d57c5f6",
   "metadata": {},
   "source": [
    "### Soal 1: PCA"
   ]
  },
  {
   "cell_type": "markdown",
   "id": "814b4ae8",
   "metadata": {},
   "source": [
    "Instruksi:\n",
    "1. Lakukan PCA pada data yang telah di-import di cell atas.\n",
    "2. Ketentuan PCA: Ambil sampai threshold explained variancenya 0.8 (80%)\n",
    "3. Berapa Principal Components yang diambil?\n",
    "4. Simpan data hasil PCA karena data hasil PCA ini akan digunakan di Soal 2: K-Means"
   ]
  },
  {
   "cell_type": "code",
   "execution_count": 4,
   "id": "97282348",
   "metadata": {},
   "outputs": [
    {
     "data": {
      "text/plain": [
       "(1000, 20)"
      ]
     },
     "execution_count": 4,
     "metadata": {},
     "output_type": "execute_result"
    }
   ],
   "source": [
    "# Cek dimensionality dataframe awal\n",
    "data.shape"
   ]
  },
  {
   "cell_type": "code",
   "execution_count": 5,
   "id": "0b49ea21",
   "metadata": {},
   "outputs": [],
   "source": [
    "# Memisahkan Feature dan Label\n",
    "X = data.iloc[:,:19].values\n",
    "Y = data.iloc[:, 19].values"
   ]
  },
  {
   "cell_type": "code",
   "execution_count": 6,
   "id": "25734e9f",
   "metadata": {},
   "outputs": [
    {
     "data": {
      "text/plain": [
       "array([[ 0.98185353, -0.53788707, -0.83210411, ..., -0.70984907,\n",
       "        -0.8144824 , -1.15191756],\n",
       "       [-0.44924129, -0.39334709,  0.58897253, ...,  0.90142101,\n",
       "         0.36547106, -0.5490022 ],\n",
       "       [ 0.50587484, -1.64141633, -0.97688444, ..., -1.03925044,\n",
       "        -0.78894395, -0.05473423],\n",
       "       ...,\n",
       "       [ 1.71892594, -1.58852638, -0.16315252, ..., -1.40519489,\n",
       "         0.95837357, -1.18572337],\n",
       "       [ 0.33299205, -0.61337247, -1.80362374, ..., -0.337537  ,\n",
       "        -1.35999394,  1.46979782],\n",
       "       [-1.58496936,  1.24675193, -0.0886024 , ...,  0.64126694,\n",
       "        -1.11479002,  0.93547819]])"
      ]
     },
     "execution_count": 6,
     "metadata": {},
     "output_type": "execute_result"
    }
   ],
   "source": [
    "from sklearn.preprocessing import StandardScaler\n",
    "scaler = StandardScaler()\n",
    "\n",
    "# transform data\n",
    "X_scaled = scaler.fit_transform(X)\n",
    "X_scaled"
   ]
  },
  {
   "cell_type": "code",
   "execution_count": 7,
   "id": "382e6bab",
   "metadata": {
    "scrolled": true
   },
   "outputs": [
    {
     "name": "stdout",
     "output_type": "stream",
     "text": [
      "PCA Fit and Transform finished in 0.009992599487304688 seconds.\n",
      "Feature columns yang tersisa setelah dilakukan PCA: 11\n",
      "Dataset yang berhasil direduksi sebesar: 44.99999999999999 persen\n"
     ]
    }
   ],
   "source": [
    "# Ambil sampai threshold explained variancenya 0.8 (80%): Sesuai ketentuan soal\n",
    "pca_80 = PCA(0.8)\n",
    "\n",
    "start_time = time.time()\n",
    "x_new_pca_80 = pca_80.fit_transform(X_scaled)\n",
    "finish_time = time.time()\n",
    "\n",
    "print('PCA Fit and Transform finished in', finish_time - start_time, 'seconds.')\n",
    "print('Feature columns yang tersisa setelah dilakukan PCA:', pca_80.n_components_)\n",
    "print('Dataset yang berhasil direduksi sebesar:', (1-(pca_80.n_components_/20))*100, 'persen')"
   ]
  },
  {
   "cell_type": "markdown",
   "id": "8295835c",
   "metadata": {},
   "source": [
    "Dari hasil diatas bisa dilihat bahwa feature columns yang tersisa yaitu 11 kolom untuk mencapai explained variance 80%, \n",
    "\n",
    "Dataset yang awalnya memiliki 20 kolom, setelah direduksi dengan menggunakan PCA berkurang menjadi 11 kolom saja, dengan selisih persentase reduksi sebesar 44,9%."
   ]
  },
  {
   "cell_type": "code",
   "execution_count": 8,
   "id": "4acad679",
   "metadata": {},
   "outputs": [
    {
     "name": "stdout",
     "output_type": "stream",
     "text": [
      "Number of Components: 11\n"
     ]
    }
   ],
   "source": [
    "# Lihat Principal Components yang dapat diambil dari explained variance 0.8 (80%)\n",
    "print(\"Number of Components:\", pca_80.n_components_)"
   ]
  },
  {
   "cell_type": "code",
   "execution_count": 9,
   "id": "23063fba",
   "metadata": {
    "scrolled": true
   },
   "outputs": [
    {
     "name": "stdout",
     "output_type": "stream",
     "text": [
      "Sebelum direduksi: (1000, 20)\n",
      "Setelah direduksi: (1000, 11)\n"
     ]
    }
   ],
   "source": [
    "# Cek perbandingan dimensionality data sebelum dan sesudah pca\n",
    "print(\"Sebelum direduksi:\", data.shape)\n",
    "print(\"Setelah direduksi:\", x_new_pca_80.shape)"
   ]
  },
  {
   "cell_type": "markdown",
   "id": "3811b3d1",
   "metadata": {},
   "source": [
    "##### Jawab: Hasil PCA adalah mengambil `11` Principal Components."
   ]
  },
  {
   "cell_type": "markdown",
   "id": "9d0330da",
   "metadata": {},
   "source": [
    "---"
   ]
  },
  {
   "cell_type": "markdown",
   "id": "9d628c85",
   "metadata": {},
   "source": [
    "### Soal 2: K Means"
   ]
  },
  {
   "cell_type": "markdown",
   "id": "9e172fc0",
   "metadata": {},
   "source": [
    "Instruksi:\n",
    "1. Dari data yang sudah di-PCA-kan (jadi datanya sudah baru ya, bukan data original lagi, ingat, data yang sudah di-PCA-kan), kita akan menentukan k = ?? yang paling ideal untuk clustering.\n",
    "2. Lakukan Elbow dan Silhouette method\n",
    "3. Visualisasikan hasil Elbow dan Silhouette method\n",
    "4. Berapa nilai k yang terbaik? "
   ]
  },
  {
   "cell_type": "code",
   "execution_count": 10,
   "id": "e6951912",
   "metadata": {},
   "outputs": [
    {
     "data": {
      "image/png": "[encoded data removed]",
      "text/plain": [
       "<Figure size 432x288 with 1 Axes>"
      ]
     },
     "metadata": {
      "needs_background": "light"
     },
     "output_type": "display_data"
    }
   ],
   "source": [
    "## Elbow Method\n",
    "score = []\n",
    "\n",
    "for cluster in range(1,11):\n",
    "    kmeans = KMeans(n_clusters = cluster)\n",
    "    scaled_data = StandardScaler().fit_transform(x_new_pca_80)\n",
    "    kmeans.fit(scaled_data)\n",
    "    score.append(kmeans.inertia_)\n",
    "\n",
    "# plotting the score\n",
    "plt.plot(range(1,11), score)\n",
    "plt.title('Elbow Method')\n",
    "plt.xlabel('Number of Clusters')\n",
    "plt.ylabel('wcss')\n",
    "plt.show()"
   ]
  },
  {
   "cell_type": "markdown",
   "id": "f46f79eb",
   "metadata": {},
   "source": [
    "Berdasarkan visualisasi Elbow Method diatas, nilai terbaik adalah k = 3 "
   ]
  },
  {
   "cell_type": "code",
   "execution_count": 11,
   "id": "dcbf427a",
   "metadata": {},
   "outputs": [
    {
     "data": {
      "image/png": "[encoded data removed]",
      "text/plain": [
       "<Figure size 432x288 with 1 Axes>"
      ]
     },
     "metadata": {
      "needs_background": "light"
     },
     "output_type": "display_data"
    }
   ],
   "source": [
    "## Silhouette Method\n",
    "silhouette_coefficients = []\n",
    "from sklearn.metrics import silhouette_score\n",
    "\n",
    "# Notice you start at 2 clusters for silhouette coefficient\n",
    "for k in range(2, 11):\n",
    "    kmeans = KMeans(n_clusters=k)\n",
    "    scaled_data = StandardScaler().fit_transform(x_new_pca_80)\n",
    "    kmeans.fit(scaled_data)\n",
    "    score = silhouette_score(scaled_data, kmeans.labels_)\n",
    "    silhouette_coefficients.append(score)\n",
    "    \n",
    "plt.plot(range(2, 11), silhouette_coefficients)\n",
    "plt.xticks(range(2, 11))\n",
    "plt.title('Silhouette Method')\n",
    "plt.xlabel(\"Number of Clusters\")\n",
    "plt.ylabel(\"Silhouette Coefficient\")\n",
    "plt.show()"
   ]
  },
  {
   "cell_type": "markdown",
   "id": "c64e6c4d",
   "metadata": {},
   "source": [
    "Berdasarkan visualisasi Silhouette Method, nilai Silhouette tertinggi terjadi di k = 3"
   ]
  },
  {
   "cell_type": "markdown",
   "id": "91faa167",
   "metadata": {},
   "source": [
    "##### Jawab: Nilai k yang terbaik atau yang paling ideal berdasarkan Elbow dan Silhouette method adalah k = `3`"
   ]
  },
  {
   "cell_type": "markdown",
   "id": "c9ca9da8",
   "metadata": {},
   "source": [
    "Karena nilai yang paling optimal adalah k = 3, maka data yang ada akan terbagi menjadi 3 cluster."
   ]
  },
  {
   "cell_type": "code",
   "execution_count": 16,
   "id": "ff884797",
   "metadata": {},
   "outputs": [
    {
     "data": {
      "text/plain": [
       "<matplotlib.collections.PathCollection at 0x1f6bf9ecfa0>"
      ]
     },
     "execution_count": 16,
     "metadata": {},
     "output_type": "execute_result"
    },
    {
     "data": {
      "image/png": "[encoded data removed]",
      "text/plain": [
       "<Figure size 432x288 with 1 Axes>"
      ]
     },
     "metadata": {
      "needs_background": "light"
     },
     "output_type": "display_data"
    }
   ],
   "source": [
    "# Visualisasi sebagai gambaran data yang terbagi atas 3 cluster\n",
    "kmeans_final = KMeans(n_clusters = 3, random_state = 5)\n",
    "y_kmeans = kmeans_final.fit_predict(x_new_pca_80)\n",
    "\n",
    "plt.scatter(x_new_pca_80[:, 0], x_new_pca_80[:, 1], x_new_pca_80[:, 2], c=y_kmeans)"
   ]
  }
 ],
 "metadata": {
  "kernelspec": {
   "display_name": "Python 3 (ipykernel)",
   "language": "python",
   "name": "python3"
  },
  "language_info": {
   "codemirror_mode": {
    "name": "ipython",
    "version": 3
   },
   "file_extension": ".py",
   "mimetype": "text/x-python",
   "name": "python",
   "nbconvert_exporter": "python",
   "pygments_lexer": "ipython3",
   "version": "3.10.6"
  }
 },
 "nbformat": 4,
 "nbformat_minor": 5
}
